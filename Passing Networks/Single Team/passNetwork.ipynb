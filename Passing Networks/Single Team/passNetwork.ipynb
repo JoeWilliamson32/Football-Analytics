{
 "cells": [
  {
   "cell_type": "code",
   "execution_count": null,
   "metadata": {},
   "outputs": [],
   "source": [
    "import pandas as pd\n",
    "import numpy as np\n",
    "import matplotlib.pyplot as plt\n",
    "import numpy as np\n",
    "from selenium import webdriver\n",
    "import main\n",
    "import visuals\n",
    "import seaborn as sns\n",
    "import chromedriver_autoinstaller\n",
    "from datetime import datetime"
   ]
  },
  {
   "cell_type": "code",
   "execution_count": null,
   "metadata": {},
   "outputs": [],
   "source": [
    "chromedriver_autoinstaller.install()"
   ]
  },
  {
   "cell_type": "markdown",
   "metadata": {},
   "source": [
    "## To Change\n",
    "- Link to match report of game from whoscored\n",
    "- Depends on whether you want home/away team. Pretty simple either way.\n",
    "- Currently for home team - if you want the home team, change nothing.\n",
    "- For the Away team change (1) id1 to id2 in the Keep T1 Players section and (2) change home <--> away teams in title and (3) change home > away in section Get Shirt Numbers and merge to passes df"
   ]
  },
  {
   "cell_type": "markdown",
   "metadata": {},
   "source": [
    "## Pull Data"
   ]
  },
  {
   "cell_type": "code",
   "execution_count": null,
   "metadata": {},
   "outputs": [],
   "source": [
    "if __name__ == \"__main__\":\n",
    "    driver = webdriver.Chrome()\n",
    "    \n",
    "# whoscored match centre url of the required match (Example: Barcelona vs Sevilla)\n",
    "url = \"https://www.whoscored.com/Matches/1640867/Live/England-Premier-League-2022-2023-Chelsea-Crystal-Palace\"\n",
    "match_data = main.getMatchData(driver, url, close_window=True)\n",
    "\n",
    "# Match dataframe containing info about the match\n",
    "matches_df = main.createMatchesDF(match_data)\n",
    "\n",
    "# Events dataframe      \n",
    "events_df = main.createEventsDF(match_data)\n",
    "\n",
    "# match Id\n",
    "matchId = match_data['matchId']\n",
    "\n",
    "# Information about respective teams as dictionary\n",
    "home_data = matches_df['home'][matchId]\n",
    "away_data = matches_df['away'][matchId]\n",
    "\n",
    "home_name = home_data['name']\n",
    "away_name = away_data['name']\n",
    "date = match_data['startDate'].split('T')[0]\n",
    "date_ = datetime.strptime(date, '%Y-%m-%d').date()\n",
    "date_str = date_.strftime('%b %d %Y')"
   ]
  },
  {
   "cell_type": "markdown",
   "metadata": {},
   "source": [
    "## Filter data to get passes\n",
    "- Whoscored doesn't have pass recipient - so need to add automatically\n",
    "- Just shift index by one\n",
    "- Also have instances where pass is successful but recipient is to another team (half end/free kicks?) - so make sure team id or recipient and player is the same"
   ]
  },
  {
   "cell_type": "code",
   "execution_count": null,
   "metadata": {},
   "outputs": [],
   "source": [
    "events_df[\"passRecipient\"] = events_df['playerName'].shift(-1)\n",
    "events_df['teamRecipient'] = events_df['teamId'].shift(-1)\n",
    "column_to_move = events_df.pop(\"passRecipient\")\n",
    "events_df.insert(26, \"passRecipient\", column_to_move)\n",
    "column_to_move = events_df.pop(\"teamRecipient\")\n",
    "events_df.insert(27, \"teamRecipient\", column_to_move)"
   ]
  },
  {
   "cell_type": "code",
   "execution_count": null,
   "metadata": {},
   "outputs": [],
   "source": [
    "events_df2 = events_df[(events_df['type'] == 'Pass')]"
   ]
  },
  {
   "cell_type": "code",
   "execution_count": null,
   "metadata": {},
   "outputs": [],
   "source": [
    "events_df = events_df[(events_df['type'] == 'Pass') & (events_df['outcomeType'] == 'Successful')\n",
    "                      & (events_df['teamId'] == events_df['teamRecipient']) ]"
   ]
  },
  {
   "cell_type": "markdown",
   "metadata": {},
   "source": [
    "## Passes between 2 players"
   ]
  },
  {
   "cell_type": "code",
   "execution_count": null,
   "metadata": {},
   "outputs": [],
   "source": [
    "passes_df = events_df[['eventId','playerName', 'passRecipient']]\n",
    "passes_df = passes_df.dropna()"
   ]
  },
  {
   "cell_type": "code",
   "execution_count": null,
   "metadata": {},
   "outputs": [],
   "source": [
    "passes_df['pair'] = passes_df['playerName'] + ' ' + passes_df['passRecipient']\n",
    "passes_df"
   ]
  },
  {
   "cell_type": "code",
   "execution_count": null,
   "metadata": {},
   "outputs": [],
   "source": [
    "passes_count = passes_df.groupby(['pair']).count().reset_index()\n",
    "passes_count = passes_count[['pair', 'eventId']]\n",
    "passes_count.columns = ['pair', 'passes']\n",
    "passes_count"
   ]
  },
  {
   "cell_type": "markdown",
   "metadata": {},
   "source": [
    "## Average position for each player"
   ]
  },
  {
   "cell_type": "code",
   "execution_count": null,
   "metadata": {},
   "outputs": [],
   "source": [
    "avg_loc_df = events_df[['teamId', 'playerName', 'x', 'y']]\n",
    "avg_loc_df = avg_loc_df.groupby(['teamId', 'playerName']).agg({'x':np.mean, 'y':[np.mean, 'count']}).reset_index()\n",
    "avg_loc_df.columns = ['teamId', 'playerName', 'x','y', 'count']\n",
    "avg_loc_df"
   ]
  },
  {
   "cell_type": "markdown",
   "metadata": {},
   "source": [
    "## Merge Data  "
   ]
  },
  {
   "cell_type": "code",
   "execution_count": null,
   "metadata": {},
   "outputs": [],
   "source": [
    "passes_merge = passes_df.merge(passes_count, on='pair')\n",
    "passes_merge = passes_merge[['playerName', 'passRecipient', 'passes']]\n",
    "passes_merge = passes_merge.drop_duplicates().reset_index(drop=True)\n",
    "passes_merge"
   ]
  },
  {
   "cell_type": "code",
   "execution_count": null,
   "metadata": {},
   "outputs": [],
   "source": [
    "avg_loc_df = avg_loc_df[['playerName', 'x', 'y', 'count']]\n",
    "pass_map = passes_merge.merge(avg_loc_df, on='playerName')\n",
    "pass_map.rename({'x':'x_start', 'y':'y_start'}, axis='columns', inplace=True)\n",
    "pass_map = pass_map.merge(avg_loc_df, left_on = 'passRecipient', right_on='playerName', suffixes = ['', '_end'])\n",
    "pass_map.rename({'x':'x_end', 'y':'y_end'}, axis='columns', inplace=True)\n",
    "pass_map = pass_map.drop(['playerName_end', 'count_end'], axis=1)\n",
    "pass_map = pass_map[pass_map['playerName'] != pass_map['passRecipient']]\n",
    "pass_map"
   ]
  },
  {
   "cell_type": "markdown",
   "metadata": {},
   "source": [
    "## Keep T1 Players"
   ]
  },
  {
   "cell_type": "code",
   "execution_count": null,
   "metadata": {},
   "outputs": [],
   "source": [
    "id1 = home_data['teamId']\n",
    "id2 = away_data['teamId']"
   ]
  },
  {
   "cell_type": "code",
   "execution_count": null,
   "metadata": {},
   "outputs": [],
   "source": [
    "team1_players = events_df[events_df.teamId == id1].groupby('playerName').agg({'minute': [min, max]}).reset_index()\n",
    "team1_players = pd.concat([team1_players['playerName'], team1_players['minute']], axis=1)\n",
    "team1_players['mins_played'] = team1_players['max'] - team1_players['min']\n",
    "team1_players = team1_players.sort_values('mins_played', ascending=False)\n",
    "team1_players_names = team1_players.playerName\n",
    "passes_t1 = pass_map[(pass_map['playerName'].isin(team1_players_names)) & \n",
    "                     (pass_map['passRecipient'].isin(team1_players_names))]\n",
    "team1_players_names_top11 = team1_players.playerName[:11].tolist()\n",
    "team1_players_names_top11"
   ]
  },
  {
   "cell_type": "markdown",
   "metadata": {},
   "source": [
    "## Top 3 players with most completed passes"
   ]
  },
  {
   "cell_type": "code",
   "execution_count": null,
   "metadata": {},
   "outputs": [],
   "source": [
    "comp_passes = passes_t1.groupby('playerName')[['playerName','passes']].sum().reset_index().sort_values(by='passes',\n",
    "                                                                                        ascending=False)\n",
    "comp_passes = comp_passes[comp_passes['playerName'].isin(team1_players_names_top11)][:3]\n",
    "team1_players_names_top11\n",
    "comp_passes_list = []\n",
    "for p, passes in zip(comp_passes['playerName'], comp_passes['passes']):\n",
    "    comp_passes_list.append([p, passes])\n",
    "comp_passes_list"
   ]
  },
  {
   "cell_type": "markdown",
   "metadata": {},
   "source": [
    "## Top 3 Combinations"
   ]
  },
  {
   "cell_type": "code",
   "execution_count": null,
   "metadata": {},
   "outputs": [],
   "source": [
    "combos = passes_t1.sort_values(by='passes', ascending=False)\n",
    "combos = combos[(combos['playerName'].isin(team1_players_names_top11)) & (combos['passRecipient'].isin(team1_players_names_top11))]\n",
    "combos = combos[:3][['playerName', 'passRecipient', 'passes']]\n",
    "combos_list = []\n",
    "for p1, p2, cnt in zip(combos['playerName'], combos['passRecipient'], combos['passes']):\n",
    "    combos_list.append([p1,p2, cnt])\n",
    "combos_list"
   ]
  },
  {
   "cell_type": "markdown",
   "metadata": {},
   "source": [
    "## Prog. Pass Field + Top 3 Prog. Passes"
   ]
  },
  {
   "cell_type": "code",
   "execution_count": null,
   "metadata": {},
   "outputs": [],
   "source": [
    "prog_passes = events_df[['playerName', 'passRecipient', 'type', 'x', 'y', 'endX', 'endY']]\n",
    "prog_passes.rename({'x':'x_start', 'y':'y_start', 'endX': 'x_end', 'endY':'y_end'}, axis='columns', inplace=True)\n",
    "prog_passes = prog_passes[(prog_passes['playerName'].isin(team1_players_names))]\n",
    "prog_passes = prog_passes.reset_index(drop=True)\n",
    "\n",
    "prog_passes['Progressive'] = ''\n",
    "for i in range(len(prog_passes)):\n",
    "    x_0 = 120*(prog_passes['x_start'][i])/100\n",
    "    y_0 = 80*(prog_passes['y_start'][i])/100\n",
    "    x_1 = 120*(prog_passes['x_end'][i])/100\n",
    "    y_1 = 80*(prog_passes['y_end'][i])/100\n",
    "    \n",
    "    beg_dist = np.sqrt((120 - x_0)**2 + (40 - y_0)**2)\n",
    "    end_dist = np.sqrt((120 - x_1)**2 + (40 - y_1)**2)\n",
    "\n",
    "    if end_dist/beg_dist <= 0.75:\n",
    "        prog_passes['Progressive'][i] = 'True'\n",
    "    else:\n",
    "        prog_passes['Progressive'][i] = 'False'\n",
    "\n",
    "        \n",
    "prog_passes2 = prog_passes[prog_passes['Progressive'] == 'True'].groupby('playerName')['type'].count().sort_values(ascending=False).reset_index()\n",
    "prog_passes2 = prog_passes2[prog_passes2['playerName'].isin(team1_players_names_top11)][:3]\n",
    "prog_passes_list = []\n",
    "for p, cnt in zip(prog_passes2['playerName'], prog_passes2['type']):\n",
    "    prog_passes_list.append([p,cnt])\n",
    "\n",
    "prog_received = pd.DataFrame(prog_passes[prog_passes['Progressive'] == 'True'].groupby('passRecipient')['type'].count().sort_values(ascending=False)).reset_index()\n",
    "prog_received = prog_received[prog_received['passRecipient'].isin(team1_players_names_top11)][:3]\n",
    "prog_received_list = []\n",
    "for p, cnt in zip(prog_received['passRecipient'], prog_received['type']):\n",
    "    prog_received_list.append([p,cnt])\n"
   ]
  },
  {
   "cell_type": "markdown",
   "metadata": {},
   "source": [
    "## Top 3 Pass Completion"
   ]
  },
  {
   "cell_type": "code",
   "execution_count": null,
   "metadata": {},
   "outputs": [],
   "source": [
    "events_df2 = events_df2[events_df2['playerName'].isin(team1_players_names_top11)][['playerName','outcomeType']]\n",
    "pass_comp_df = pd.DataFrame(events_df2.groupby(['playerName', 'outcomeType']).size()).unstack(fill_value=0).stack().reset_index()\n",
    "pass_comp_df.columns = ['playerName', 'outcome', 'count']\n",
    "pass_comp = []\n",
    "for i in range(0, len(pass_comp_df), 2):\n",
    "    rate = pass_comp_df['count'][i] / (pass_comp_df['count'][i]+pass_comp_df['count'][i+1])\n",
    "    pass_comp.append([pass_comp_df['playerName'][i], rate])\n",
    "\n",
    "pass_comp.sort(key=lambda x:x[1], reverse=True)\n",
    "pass_comp = pass_comp[0:3]\n",
    "for i, val in enumerate(pass_comp):\n",
    "    val[1] = round(float(val[1])*100)\n",
    "pass_comp\n",
    "    \n",
    "    "
   ]
  },
  {
   "cell_type": "markdown",
   "metadata": {},
   "source": [
    "## Top 3 xThreat via Pass"
   ]
  },
  {
   "cell_type": "code",
   "execution_count": null,
   "metadata": {},
   "outputs": [],
   "source": [
    "events_df_xT = events_df[['playerName', 'x', 'y', 'endX', 'endY']].reset_index(drop=True)\n",
    "\n",
    "xT_list = []\n",
    "xT = pd.read_csv(\"xT_grid.csv\", header=None)\n",
    "xT = np.array(xT)\n",
    "xT_rows, xT_cols = xT.shape\n",
    "\n",
    "for name in team1_players_names_top11:\n",
    "    test = events_df_xT[events_df_xT['playerName'] == name]\n",
    "    test['x1_bin'] = pd.cut(test['x'], bins=xT_cols, labels=False)\n",
    "    test['x2_bin'] = pd.cut(test['endX'], bins=xT_cols, labels=False)\n",
    "    test['y1_bin'] = pd.cut(test['y'], bins=xT_rows, labels=False)\n",
    "    test['y2_bin'] = pd.cut(test['endY'], bins=xT_rows, labels=False)\n",
    "    test['xT_start'] = test[['x1_bin', 'y1_bin']].apply(lambda x:xT[x[1]][x[0]], axis=1)\n",
    "    test['xT_end'] = test[['x2_bin', 'y2_bin']].apply(lambda x:xT[x[1]][x[0]], axis=1)\n",
    "    test['xT_diff'] = test['xT_end'] - test['xT_start']\n",
    "    xT_added = test['xT_diff'].sum()\n",
    "    \n",
    "    xT_list.append([name, xT_added])\n",
    "    \n",
    "xT_list.sort(key=lambda x:x[1], reverse=True)\n",
    "xT_list2 = xT_list.copy()\n",
    "xT_list = xT_list[:3]\n",
    "for i, val in enumerate(xT_list):\n",
    "    val[1] = round(float(val[1]),2)\n",
    "xT_list2"
   ]
  },
  {
   "cell_type": "code",
   "execution_count": null,
   "metadata": {},
   "outputs": [],
   "source": [
    "events_df_xT = events_df[['playerName', 'x', 'y', 'endX', 'endY']].reset_index(drop=True)\n",
    "\n",
    "xT_list = []\n",
    "path = \"https://karun.in/blog/data/open_xt_12x8_v1.json\"\n",
    "xT_grid = pd.read_json(path)\n",
    "xT_grid = np.array(xT_grid)\n",
    "xT_grid\n",
    "xT_rows, xT_cols = xT.shape\n",
    "\n",
    "for name in team1_players_names_top11:\n",
    "    test = events_df_xT[events_df_xT['playerName'] == name]\n",
    "    test['x1_bin'] = pd.cut(test['x'], bins=xT_cols, labels=False)\n",
    "    test['x2_bin'] = pd.cut(test['endX'], bins=xT_cols, labels=False)\n",
    "    test['y1_bin'] = pd.cut(test['y'], bins=xT_rows, labels=False)\n",
    "    test['y2_bin'] = pd.cut(test['endY'], bins=xT_rows, labels=False)\n",
    "    test['xT_start'] = test[['x1_bin', 'y1_bin']].apply(lambda x:xT[x[1]][x[0]], axis=1)\n",
    "    test['xT_end'] = test[['x2_bin', 'y2_bin']].apply(lambda x:xT[x[1]][x[0]], axis=1)\n",
    "    test['xT_diff'] = test['xT_end'] - test['xT_start']\n",
    "    xT_added = test['xT_diff'].sum()\n",
    "    \n",
    "    xT_list.append([name, xT_added])\n",
    "    \n",
    "xT_list.sort(key=lambda x:x[1], reverse=True)\n",
    "xT_list2 = xT_list.copy()\n",
    "xT_list = xT_list[:3]\n",
    "for i, val in enumerate(xT_list):\n",
    "    val[1] = round(float(val[1]),2)\n",
    "xT_list"
   ]
  },
  {
   "cell_type": "code",
   "execution_count": null,
   "metadata": {},
   "outputs": [],
   "source": [
    "xT_scaled = []\n",
    "minXT = abs(min(xT_list2, key=lambda x:x[1])[1])\n",
    "for player, xT in xT_list2:\n",
    "    xT_updated = xT + minXT + 0.05\n",
    "    xT_scaled.append([player, xT_updated])\n",
    "df_xT = pd.DataFrame(xT_scaled, columns=['playerName', 'xThreat'])\n",
    "df_xT"
   ]
  },
  {
   "cell_type": "markdown",
   "metadata": {},
   "source": [
    "## Keep 11 players with most mins"
   ]
  },
  {
   "cell_type": "code",
   "execution_count": null,
   "metadata": {},
   "outputs": [],
   "source": [
    "# Get line width and just count instances of 4/more passes\n",
    "team1_players_names = team1_players.playerName[:11].tolist()\n",
    "passes_t1 = pass_map[(pass_map['playerName'].isin(team1_players_names)) & \n",
    "                     (pass_map['passRecipient'].isin(team1_players_names))]\n",
    "passes_t1['width'] = passes_t1['passes']/passes_t1['passes'].max() * 12\n",
    "passes_t1"
   ]
  },
  {
   "cell_type": "code",
   "execution_count": null,
   "metadata": {
    "scrolled": false
   },
   "outputs": [],
   "source": [
    "# Set marker size and keep over 4 passes\n",
    "# passes_t1 = passes_t1[passes_t1['passes']>=2]\n",
    "passes_t1['passes'][passes_t1['passes']<3] = 0\n",
    "passes_t1['marker_size'] = (passes_t1['count']\n",
    "                                         / passes_t1['count'].max() * 2500)\n",
    "passes_t1"
   ]
  },
  {
   "cell_type": "code",
   "execution_count": null,
   "metadata": {},
   "outputs": [],
   "source": [
    "passes_t1 = passes_t1.merge(df_xT, on='playerName')\n",
    "passes_t1"
   ]
  },
  {
   "cell_type": "markdown",
   "metadata": {},
   "source": [
    "## Get Shirt Numbers and merge to passes df "
   ]
  },
  {
   "cell_type": "code",
   "execution_count": null,
   "metadata": {},
   "outputs": [],
   "source": [
    "shirt_nos = matches_df['home'][matchId]['formations'][0]['jerseyNumbers']\n",
    "playerIds = matches_df['home'][matchId]['formations'][0]['playerIds']\n",
    "shirt_nos = pd.DataFrame({'no':shirt_nos, 'playerId':playerIds})\n",
    "playerIds = events_df[['playerId', 'playerName']]\n",
    "passes_t1 = passes_t1.merge(playerIds, on='playerName')\n",
    "shirt_nos['playerId'] = shirt_nos['playerId'].astype(str)\n",
    "passes_t1 = passes_t1.merge(shirt_nos, on='playerId')\n",
    "passes_t1 = passes_t1.drop_duplicates().reset_index(drop=True)\n",
    "passes_t1"
   ]
  },
  {
   "cell_type": "markdown",
   "metadata": {},
   "source": [
    "## Plot Passing Network"
   ]
  },
  {
   "cell_type": "code",
   "execution_count": null,
   "metadata": {
    "scrolled": false
   },
   "outputs": [],
   "source": [
    "import matplotlib.pyplot as plt\n",
    "from mplsoccer import Pitch, VerticalPitch\n",
    "from matplotlib.colors import to_rgba\n",
    "import matplotlib as mpl\n",
    "mpl.rcParams['figure.dpi'] = 800\n",
    "\n",
    "MIN_TRANSPARENCY = 0.\n",
    "color = np.array(to_rgba('darkcyan'))\n",
    "color = np.tile(color, (len(passes_t1), 1))\n",
    "c_transparency = passes_t1.passes / (passes_t1.passes.max())\n",
    "c_transparency = (c_transparency * (1 - MIN_TRANSPARENCY)) + MIN_TRANSPARENCY\n",
    "color[:, 3] = c_transparency\n",
    "\n",
    "MIN_TRANSPARENCY2 = 0.05\n",
    "color2 = np.array(to_rgba('darkcyan'))\n",
    "color2 = np.tile(color2, (len(passes_t1), 1))\n",
    "c_transparency2 = (passes_t1.xThreat + passes_t1.xThreat.min())/ ((passes_t1.xThreat.max() + abs(passes_t1.xThreat.min())))\n",
    "c_transparency2 = (c_transparency2 + MIN_TRANSPARENCY2)/4\n",
    "color2[:, 3] = c_transparency2\n",
    "\n",
    "\n",
    "pitch = VerticalPitch(pitch_type='opta', pitch_color='#2B2B2B', line_color='#c7d5cc',pad_top=0, pad_left = 40)\n",
    "fig, axs = pitch.grid(figheight=10, title_height=0.08, endnote_space=0, axis=False, \n",
    "                      title_space=0, grid_height=0.82, endnote_height=0.05)\n",
    "\n",
    "fig.set_facecolor(\"#2B2B2B\")\n",
    "\n",
    "# rectangle1 = plt.Rectangle((0, 0),110,100, color='darkcyan')\n",
    "# plt.gca().add_patch(rectangle1, ax=axs['left'])\n",
    "\n",
    "axs['pitch'].annotate(text='    Passes Completed    '.upper(), xytext=(120, 98), xy=(60, 40), ha='center', \n",
    "                     va='center', color='white',\n",
    "                     bbox=dict(facecolor='darkcyan', edgecolor='none', boxstyle='round,pad=.5'),\n",
    "                     fontname = 'Sans Serif', fontsize=8)\n",
    "\n",
    "y = 95\n",
    "i = 0\n",
    "for p1, cnt in comp_passes_list:\n",
    "    p1 = p1.replace('-', ' ')\n",
    "    p1 = p1.split(' ')\n",
    "    if len(p1) > 2:\n",
    "        name = \"\".join([x[0].upper() for x in p1])\n",
    "        p1 = name\n",
    "    elif len(p1) == 1:\n",
    "        p1 = p1[0]\n",
    "    else:\n",
    "        p1 = p1[1]\n",
    "    axs['pitch'].annotate(text=p1.upper(), \n",
    "                          xytext=(134, y - 2*i), xy=(20, 40), ha='left', va='center', \n",
    "                          color='white', fontname = 'Sans Serif', fontsize = 6)\n",
    "    axs['pitch'].annotate(text=cnt, \n",
    "                          xytext=(106, y - 2*i), xy=(20, 40), ha='right', va='center', \n",
    "                          color='white', fontname = 'Sans Serif', fontsize = 6)\n",
    "    \n",
    "    i += 1\n",
    "axs['pitch'].annotate(text='   Pass Completion %    '.upper(), xytext=(120, 83), xy=(60, 40), ha='center', va='center', color='white',\n",
    "                     bbox=dict(facecolor='darkcyan', edgecolor='none', boxstyle='round,pad=.5'),\n",
    "                     fontname = 'Sans Serif', fontsize=8)\n",
    "y = 80\n",
    "i = 0\n",
    "for p1, cnt in pass_comp:\n",
    "    p1 = p1.replace('-', ' ')\n",
    "    p1 = p1.split(' ')\n",
    "    if len(p1) > 2:\n",
    "        name = \"\".join([x[0].upper() for x in p1])\n",
    "        p1 = name\n",
    "    elif len(p1) == 1:\n",
    "        p1 = p1[0]\n",
    "    else:\n",
    "        p1 = p1[1]\n",
    "    axs['pitch'].annotate(text=p1.upper(), \n",
    "                          xytext=(134, y - 2*i), xy=(20, 40), ha='left', va='center', \n",
    "                          color='white', fontname = 'Sans Serif', fontsize = 6)\n",
    "    axs['pitch'].annotate(text=str(cnt)+'%', \n",
    "                          xytext=(106, y - 2*i), xy=(20, 40), ha='right', va='center', \n",
    "                          color='white', fontname = 'Sans Serif', fontsize = 6)\n",
    "    \n",
    "    i += 1\n",
    "\n",
    "\n",
    "\n",
    "axs['pitch'].annotate(text='     Prog Passes Made   '.upper(), xytext=(120, 68), xy=(60, 40), ha='center', va='center', color='white',\n",
    "                     bbox=dict(facecolor='darkcyan', edgecolor='none', boxstyle='round,pad=.5'),\n",
    "                     fontname = 'Sans Serif', fontsize=8)\n",
    "y = 65\n",
    "i = 0\n",
    "for p1, cnt in prog_passes_list:\n",
    "    p1 = p1.replace('-', ' ')\n",
    "    p1 = p1.split(' ')\n",
    "    if len(p1) > 2:\n",
    "        name = \"\".join([x[0].upper() for x in p1])\n",
    "        p1 = name\n",
    "    elif len(p1) == 1:\n",
    "        p1 = p1[0]\n",
    "    else:\n",
    "        p1 = p1[1]\n",
    "    axs['pitch'].annotate(text=p1.upper(), \n",
    "                          xytext=(134, y - 2*i), xy=(20, 40), ha='left', va='center', \n",
    "                          color='white', fontname = 'Sans Serif', fontsize = 6)\n",
    "    axs['pitch'].annotate(text=cnt, \n",
    "                          xytext=(106, y - 2*i), xy=(20, 40), ha='right', va='center', \n",
    "                          color='white', fontname = 'Sans Serif', fontsize = 6)\n",
    "    \n",
    "    i += 1\n",
    "\n",
    "axs['pitch'].annotate(text='      Prog Passes Rec     '.upper(), xytext=(120, 53), xy=(60, 40), ha='center', va='center', color='white',\n",
    "                     bbox=dict(facecolor='darkcyan', edgecolor='none', boxstyle='round,pad=.5'),\n",
    "                     fontname = 'Sans Serif', fontsize=8)\n",
    "y = 50\n",
    "i = 0\n",
    "for p1, cnt in prog_received_list:\n",
    "    p1 = p1.replace('-', ' ')\n",
    "    p1 = p1.split(' ')\n",
    "    if len(p1) > 2:\n",
    "        name = \"\".join([x[0].upper() for x in p1])\n",
    "        p1 = name\n",
    "    elif len(p1) == 1:\n",
    "        p1 = p1[0]\n",
    "    else:\n",
    "        p1 = p1[1]\n",
    "    axs['pitch'].annotate(text=p1.upper(), \n",
    "                          xytext=(134, y - 2*i), xy=(20, 40), ha='left', va='center', \n",
    "                          color='white', fontname = 'Sans Serif', fontsize = 6)\n",
    "    axs['pitch'].annotate(text=cnt, \n",
    "                          xytext=(106, y - 2*i), xy=(20, 40), ha='right', va='center', \n",
    "                          color='white', fontname = 'Sans Serif', fontsize = 6)\n",
    "    \n",
    "    i += 1\n",
    "\n",
    "\n",
    "axs['pitch'].annotate(text='   Pass Combinations    '.upper(), xytext=(120, 38), xy=(60, 40), ha='center', va='center', color='white',\n",
    "                     bbox=dict(facecolor='darkcyan', edgecolor='none', boxstyle='round,pad=.5'),\n",
    "                     fontname = 'Sans Serif', fontsize=8)\n",
    "y = 35\n",
    "i = 0\n",
    "for p1, p2, cnt in combos_list:\n",
    "    p1 = p1.replace('-', ' ')\n",
    "    p1 = p1.split(' ')\n",
    "    if len(p1) > 2:\n",
    "        name = \"\".join([x[0].upper() for x in p1])\n",
    "        p1 = name\n",
    "    elif len(p1) == 1:\n",
    "        p1 = p1[0]\n",
    "    else:\n",
    "        p1 = p1[1]\n",
    "        \n",
    "    p2 = p2.replace('-', ' ')\n",
    "    p2 = p2.split(' ')\n",
    "    if len(p2) > 2:\n",
    "        name = \"\".join([x[0].upper() for x in p2])\n",
    "        p2 = name\n",
    "    elif len(p2) == 1:\n",
    "        p2 = p2[0]\n",
    "    else:\n",
    "        p2 = p2[1]\n",
    "\n",
    "    axs['pitch'].annotate(text=p1.upper() + ' --> ' + p2.upper(), \n",
    "                          xytext=(134, y - 2*i), xy=(20, 40), ha='left', va='center', \n",
    "                          color='white', fontname = 'Sans Serif', fontsize = 6)\n",
    "    axs['pitch'].annotate(text=cnt, \n",
    "                          xytext=(106, y - 2*i), xy=(20, 40), ha='right', va='center', \n",
    "                          color='white', fontname = 'Sans Serif', fontsize = 6)\n",
    "    \n",
    "    i += 1\n",
    "\n",
    "axs['pitch'].annotate(text='     Highest xThreat      '.upper(), xytext=(120, 23), xy=(60, 40), ha='center', va='center', color='white',\n",
    "                     bbox=dict(facecolor='darkcyan', edgecolor='none', boxstyle='round,pad=.5'),\n",
    "                     fontname = 'Sans Serif', fontsize=8)\n",
    "\n",
    "y = 20\n",
    "i = 0\n",
    "for p1, cnt in xT_list:\n",
    "    p1 = p1.replace('-', ' ')\n",
    "    p1 = p1.split(' ')\n",
    "    if len(p1) > 2:\n",
    "        name = \"\".join([x[0].upper() for x in p1])\n",
    "        p1 = name\n",
    "    elif len(p1) == 1:\n",
    "        p1 = p1[0]\n",
    "    else:\n",
    "        p1 = p1[1]\n",
    "        \n",
    "    axs['pitch'].annotate(text=p1.upper(), \n",
    "                          xytext=(134, y - 2*i), xy=(20, 40), ha='left', va='center', \n",
    "                          color='white', fontname = 'Sans Serif', fontsize = 6)\n",
    "    axs['pitch'].annotate(text=str(cnt), \n",
    "                          xytext=(106, y - 2*i), xy=(20, 40), ha='right', va='center', \n",
    "                          color='white', fontname = 'Sans Serif', fontsize = 6)\n",
    "    \n",
    "    i += 1\n",
    "\n",
    "\n",
    "# pass_arrows = pitch.arrows(passes_t1.x_start-1, passes_t1.y_start-1,\n",
    "#                          passes_t1.x_end-1, passes_t1.y_end-1, lw=passes_t1.width,\n",
    "#                          color=color, zorder=1, ax=axs['pitch'], headlength=6, \n",
    "#                          headwidth=4, headaxislength=3)\n",
    "\n",
    "pass_lines = pitch.lines(passes_t1.x_start, passes_t1.y_start,\n",
    "                         passes_t1.x_end, passes_t1.y_end, lw=passes_t1.width,\n",
    "                         color=color, zorder=1, ax=axs['pitch'])\n",
    "\n",
    "\n",
    "pass_nodes = pitch.scatter(passes_t1.x_start, passes_t1.y_start, s=passes_t1.marker_size,\n",
    "                           color=color2, edgecolors='white', linewidth=1, ax=axs['pitch'])\n",
    "\n",
    "for index, row in passes_t1.iterrows():\n",
    "    pitch.annotate(row.no, xy=(row.x_start, row.y_start), color='white', va='center',\n",
    "                   ha='center', size=12, ax=axs['pitch'], fontname='Sans Serif')\n",
    "    \n",
    "    \n",
    "axs['title'].text(0, 0.55, home_name.upper() + '  - Passing Network'.upper(), color='White',\n",
    "                  va='center', ha='left', fontsize=17, fontname='Sans Serif')\n",
    "axs['title'].text(0, 0.25, 'vs ' + away_name.upper() + '  |  ' + date_str.upper(), color='White',\n",
    "                  va='center', ha='left', fontsize=8)\n",
    "    \n",
    "\n",
    "axs['endnote'].set_xlim(0, 1)\n",
    "axs['endnote'].set_ylim(0, 1)\n",
    "\n",
    "axs['endnote'].text(0.59, 0.5, '> 11 Players who played the most minutes \\n> Line Width = Numbers of Passes \\n> Node Size = Number of Touches \\n> Node Colour = xThreat via Pass \\n> Min of 3 passes' , color='#c7d5cc',\n",
    "                    va='center', ha='left', fontsize=7, fontname = 'Sans Serif')\n",
    "\n",
    "\n",
    "fig.savefig('passNetwork.png', dpi=900)\n",
    "\n",
    "plt.show()\n"
   ]
  },
  {
   "cell_type": "code",
   "execution_count": null,
   "metadata": {},
   "outputs": [],
   "source": []
  }
 ],
 "metadata": {
  "kernelspec": {
   "display_name": "Python 3 (ipykernel)",
   "language": "python",
   "name": "python3"
  },
  "language_info": {
   "codemirror_mode": {
    "name": "ipython",
    "version": 3
   },
   "file_extension": ".py",
   "mimetype": "text/x-python",
   "name": "python",
   "nbconvert_exporter": "python",
   "pygments_lexer": "ipython3",
   "version": "3.9.7"
  }
 },
 "nbformat": 4,
 "nbformat_minor": 4
}
